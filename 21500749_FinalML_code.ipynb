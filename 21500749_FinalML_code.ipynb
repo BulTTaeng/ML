{
  "cells": [
    {
      "cell_type": "markdown",
      "id": "e9420ba2",
      "metadata": {
        "id": "e9420ba2"
      },
      "source": [
        "# ITP40010-2 Machine Learning Final Exam (Code)\n",
        "\n",
        "This file contains the coding portion of the final exam, ITP40010-2 Machine Learning, 2021.\n",
        "Read the instruction carefully."
      ]
    },
    {
      "cell_type": "markdown",
      "id": "3c44338d",
      "metadata": {
        "id": "3c44338d"
      },
      "source": [
        "## Preparatory scripts and data\n",
        "\n",
        "This part of the document contains the preparatory scripts that load and preprocess data.\n",
        "Read and execute the code snippets below before you work on any of the problems."
      ]
    },
    {
      "cell_type": "code",
      "execution_count": null,
      "id": "848cbcb9",
      "metadata": {
        "id": "848cbcb9"
      },
      "outputs": [],
      "source": [
        "# Imports\n",
        "import numpy as np\n",
        "import random as rd\n",
        "import matplotlib.pyplot as plt"
      ]
    },
    {
      "cell_type": "code",
      "execution_count": null,
      "id": "f6a76e84",
      "metadata": {
        "id": "f6a76e84"
      },
      "outputs": [],
      "source": [
        "# Utility functions\n",
        "def normalize(X, mu=None, sigma=None):\n",
        "    \"\"\"\n",
        "    Normalizes input matrix X.\n",
        "    If mu and sigma are provided, this function normalizes X using them.\n",
        "    Otherwise, the function first estimates mu and sigma from X, and then normalizes X.\n",
        "    Input: X - input matrix\n",
        "           mu - a vector of column-wise mean values (can be omitted)\n",
        "           sigma - a vector of column-wise standard deviation values (can be omitted)\n",
        "    Output: \n",
        "    \"\"\"\n",
        "    if mu is None and sigma is None:\n",
        "        mu = X.mean(axis=0)\n",
        "        sigma = X.std(axis=0)\n",
        "    return (X - mu)/sigma, mu, sigma\n",
        "\n",
        "\n",
        "def get_accuracy(Y_true, Y_pred):\n",
        "    \"\"\"\n",
        "    Measures the classification accuracy.\n",
        "    Input: Y_true - true label vector (ground truth)\n",
        "           Y_pred - predicted label vector\n",
        "    return a floating point number representing accuracy\n",
        "    \"\"\"\n",
        "    assert len(Y_true) == len(Y_pred)  # optional - assert makes sure a certain condition satisfies\n",
        "    return np.sum(Y_true == Y_pred)/len(Y_true)\n",
        "    "
      ]
    },
    {
      "cell_type": "code",
      "execution_count": null,
      "id": "74e18669",
      "metadata": {
        "colab": {
          "base_uri": "https://localhost:8080/"
        },
        "id": "74e18669",
        "outputId": "49759bbd-1121-4af2-a2ef-a1fe4f3de0e1"
      },
      "outputs": [
        {
          "output_type": "stream",
          "name": "stdout",
          "text": [
            "(615, 9)\n",
            "(615,)\n",
            "(68, 9)\n",
            "(68,)\n"
          ]
        }
      ],
      "source": [
        "# Data prep.\n",
        "\n",
        "# Step 1) Load raw data\n",
        "data = np.genfromtxt('breast-cancer-wisconsin.csv', delimiter=',', skip_header=0)\n",
        "# print(data)\n",
        "\n",
        "# Step 2) Remove rows with missing values\n",
        "data=data[~np.isnan(data).any(axis=1)]\n",
        "\n",
        "# Step 3) Split data into X and y\n",
        "X = data[:, 1:-1]\n",
        "y = data[:, -1]\n",
        "\n",
        "# Step 4) Create a 0/1 label vector \n",
        "y[y==2] = 0  # benign\n",
        "y[y==4] = 1  # malignant\n",
        "\n",
        "# Step 5) Split data into 90% (615 instances) of trainset (X_tr, y_tr) and\n",
        "#        10% (68 instances) of testset (X_ts, y_ts)\n",
        "N = data.shape[0]\n",
        "N_tr = np.round(N*.9).astype(int)\n",
        "\n",
        "X_tr = X[:N_tr, :]\n",
        "y_tr = y[:N_tr]\n",
        "\n",
        "X_ts = X[N_tr:, :]\n",
        "y_ts = y[N_tr:]\n",
        "\n",
        "print(X_tr.shape)\n",
        "print(y_tr.shape)\n",
        "print(X_ts.shape)\n",
        "print(y_ts.shape)\n",
        "# print(X_tr)\n",
        "# print(X_ts)\n",
        "\n",
        "# Step 6) Normalize the input attributes using your normalize() function\n",
        "X_tr, mu_tr, sigma_tr = normalize(X_tr)\n",
        "#mu = u\n",
        "X_ts, _, _ = normalize(X_ts, mu_tr, sigma_tr)\n",
        "# print(X_tr)\n",
        "# print(X_ts)\n",
        "\n",
        "N = X_tr.shape[0]\n",
        "m = X_tr.shape[1]\n",
        "\n",
        "#N = 615 , m = 9 (number of features)\n"
      ]
    },
    {
      "cell_type": "code",
      "execution_count": null,
      "id": "0f521731",
      "metadata": {
        "colab": {
          "base_uri": "https://localhost:8080/"
        },
        "id": "0f521731",
        "outputId": "8f916833-5402-4a3e-92ae-a255da05ea53"
      },
      "outputs": [
        {
          "output_type": "execute_result",
          "data": {
            "text/plain": [
              "(615, 9)"
            ]
          },
          "metadata": {},
          "execution_count": 8
        }
      ],
      "source": [
        "# Prepare data frames\n",
        "\n",
        "import pandas as pd\n",
        "\n",
        "X_tr_df = pd.DataFrame(X_tr, columns=['clump', 'u_cell_sz', 'u_cell_shp',\n",
        "                                     'adhesion','se_cell_sz','nuclei',\n",
        "                                     'chromatin','nucleioli','mitoses'])\n",
        "y_tr_df = pd.Categorical(y_tr, categories=[0, 1])\n",
        "# print(X_tr_df)\n",
        "# print(y_tr_df)\n",
        "\n",
        "X_tr_df.shape\n",
        "\n",
        "#training data is normalized by here \n",
        "#normalized X = X_tr"
      ]
    },
    {
      "cell_type": "markdown",
      "id": "ed11c1b2",
      "metadata": {
        "id": "ed11c1b2"
      },
      "source": [
        "## A. Linear Discriminant Analysis (LDA)"
      ]
    },
    {
      "cell_type": "markdown",
      "id": "fd30235d",
      "metadata": {
        "id": "fd30235d"
      },
      "source": [
        "**(a) Below provides a code skeleton for linear discriminant analysis. Complete the code such that it computes `S_w` and `S_b` as discussed in class.**"
      ]
    },
    {
      "cell_type": "code",
      "execution_count": null,
      "id": "1360a16a",
      "metadata": {
        "colab": {
          "base_uri": "https://localhost:8080/"
        },
        "id": "1360a16a",
        "outputId": "a80e23cc-1eb2-4c33-9667-883e4c1b2cc5"
      },
      "outputs": [
        {
          "output_type": "stream",
          "name": "stdout",
          "text": [
            "                 clump   u_cell_sz  ...   nucleioli     mitoses\n",
            "clump       298.315707   41.244621  ...   10.762675   30.502465\n",
            "u_cell_sz    41.244621  212.374316  ...   80.850090   73.472742\n",
            "u_cell_shp   46.234538  149.443251  ...   81.910439   57.632513\n",
            "adhesion    -12.488340   79.462845  ...   62.777873   69.688808\n",
            "se_cell_sz   15.833233  121.747891  ...   77.323333  114.377733\n",
            "nuclei       -1.835958   17.315613  ...    5.872512   -4.620759\n",
            "chromatin     7.851536   83.412027  ...   73.937838   10.063752\n",
            "nucleioli    10.762675   80.850090  ...  307.898735   79.337924\n",
            "mitoses      30.502465   73.472742  ...   79.337924  504.366545\n",
            "\n",
            "[9 rows x 9 columns]\n",
            "            0           1           2  ...           6           7           8\n",
            "0  316.684293  357.078745  360.009160  ...  328.283649  311.855972  187.178732\n",
            "1  357.078745  402.625684  405.929886  ...  370.157648  351.634550  211.054189\n",
            "2  360.009160  405.929886  409.261204  ...  373.195397  354.520287  212.786233\n",
            "3  307.192601  346.376346  349.218930  ...  318.444299  302.508994  181.568592\n",
            "4  302.753704  341.371249  344.172758  ...  313.842817  298.137775  178.944948\n",
            "5  364.988168  411.543988  414.921379  ...  378.356774  359.423382  215.729115\n",
            "6  328.283649  370.157648  373.195397  ...  340.307860  323.278478  194.034622\n",
            "7  311.855972  351.634550  354.520287  ...  323.278478  307.101265  184.324914\n",
            "8  187.178732  211.054189  212.786233  ...  194.034622  184.324914  110.633455\n",
            "\n",
            "[9 rows x 9 columns]\n"
          ]
        }
      ],
      "source": [
        "# Train LDA\n",
        "# Getting per-class mean vectors\n",
        "X_tr_stats = X_tr_df.join(pd.Series(y_tr_df, name='class'))\n",
        "#X_tr_stats = X_tr_df + y_tr_df\n",
        "class_feature_means = pd.DataFrame(columns=[0,1])\n",
        "\n",
        "for c, rows in X_tr_stats.groupby('class'):\n",
        "  class_feature_means[c] = rows.mean(numeric_only=True)\n",
        "\n",
        "#class_feature_means[0] = class 0 average per feature\n",
        "#class_feture_measn[1] = class 1 average per feature\n",
        "    \n",
        "# Computing the \"within class\" scatter\n",
        "S_w = np.zeros((m, m))\n",
        "\n",
        "## TODO: compute the \"within class\" scatter, S_w\n",
        "\n",
        "class_labels = np.unique(y_tr_df)\n",
        "\n",
        "for c in class_labels:\n",
        "  X_c = X_tr_df[y_tr_df == c]\n",
        "  S_w += (X_c - class_feature_means[c]).T.dot(X_c - class_feature_means[c])\n",
        "\n",
        "# Computing the \"between classes\" scatter\n",
        "feature_means = X_tr_stats.mean(numeric_only=True)\n",
        "S_b = np.zeros((m, m))\n",
        "\n",
        "## TODO: compute the \"between classes\" scatter, S_b \n",
        "\n",
        "for c in class_labels:\n",
        "  mean_diff = (class_feature_means[c] - feature_means).values.reshape(m,1)\n",
        "  #print(mean_diff)\n",
        "  X_c = X_tr_df[y_tr_df == c]\n",
        "  num_c = X_c.shape[0]\n",
        "  S_b += num_c * (mean_diff) * (mean_diff).T\n",
        "\n",
        "print(pd.DataFrame(S_w))\n",
        "print(pd.DataFrame(S_b))\n",
        "\n",
        "\n",
        "# EVD\n",
        "eigen_values, eigen_vectors = np.linalg.eig(np.linalg.inv(S_w).dot(S_b))\n",
        "pairs = [(np.abs(eigen_values[i]), eigen_vectors[:,i]) for i in range(len(eigen_values))]\n",
        "pairs = sorted(pairs, key=lambda x: x[0], reverse=True)\n",
        "\n",
        "#for pair in pairs:\n",
        "#  print(pair[0])\n"
      ]
    },
    {
      "cell_type": "markdown",
      "id": "fa9b0879",
      "metadata": {
        "id": "fa9b0879"
      },
      "source": [
        "For your reference, the `S_w` and `S_b` matrices that I computed are provided below:"
      ]
    },
    {
      "cell_type": "code",
      "execution_count": null,
      "id": "67048428",
      "metadata": {
        "id": "67048428",
        "outputId": "684a31f7-0213-405c-849c-89bbf0554251",
        "colab": {
          "base_uri": "https://localhost:8080/"
        }
      },
      "outputs": [
        {
          "output_type": "stream",
          "name": "stdout",
          "text": [
            "                 clump   u_cell_sz  ...   nucleioli     mitoses\n",
            "clump       298.315707   41.244621  ...   10.762675   30.502465\n",
            "u_cell_sz    41.244621  212.374316  ...   80.850090   73.472742\n",
            "u_cell_shp   46.234538  149.443251  ...   81.910439   57.632513\n",
            "adhesion    -12.488340   79.462845  ...   62.777873   69.688808\n",
            "se_cell_sz   15.833233  121.747891  ...   77.323333  114.377733\n",
            "nuclei       -1.835958   17.315613  ...    5.872512   -4.620759\n",
            "chromatin     7.851536   83.412027  ...   73.937838   10.063752\n",
            "nucleioli    10.762675   80.850090  ...  307.898735   79.337924\n",
            "mitoses      30.502465   73.472742  ...   79.337924  504.366545\n",
            "\n",
            "[9 rows x 9 columns]\n",
            "            0           1           2  ...           6           7           8\n",
            "0  316.684293  357.078745  360.009160  ...  328.283649  311.855972  187.178732\n",
            "1  357.078745  402.625684  405.929886  ...  370.157648  351.634550  211.054189\n",
            "2  360.009160  405.929886  409.261204  ...  373.195397  354.520287  212.786233\n",
            "3  307.192601  346.376346  349.218930  ...  318.444299  302.508994  181.568592\n",
            "4  302.753704  341.371249  344.172758  ...  313.842817  298.137775  178.944948\n",
            "5  364.988168  411.543988  414.921379  ...  378.356774  359.423382  215.729115\n",
            "6  328.283649  370.157648  373.195397  ...  340.307860  323.278478  194.034622\n",
            "7  311.855972  351.634550  354.520287  ...  323.278478  307.101265  184.324914\n",
            "8  187.178732  211.054189  212.786233  ...  194.034622  184.324914  110.633455\n",
            "\n",
            "[9 rows x 9 columns]\n"
          ]
        }
      ],
      "source": [
        "print(pd.DataFrame(S_w))\n",
        "print(pd.DataFrame(S_b))\n"
      ]
    },
    {
      "cell_type": "markdown",
      "id": "c4b535d3",
      "metadata": {
        "id": "c4b535d3"
      },
      "source": [
        "After you complete and run your code for `S_w` and `S_b`, the following experiment should run with no problem.\n",
        "It extracts a projection vector `w` from the analysis, and align the input instances on a single line (in the projected space).\n",
        "\n",
        "In the resulting figure, x-axis represent the projection. Note that y-axis means nothing, as we simply assigned a random value to display what is happening on the projection space more clearly.\n",
        "\n",
        "The colors of the data points represent the class labels. \n",
        "You will find most instances of the same kind fall in a similar region.\n",
        "However, there is an area of confusion in the middle where instances from both classes are observed."
      ]
    },
    {
      "cell_type": "code",
      "execution_count": null,
      "id": "76d35855",
      "metadata": {
        "colab": {
          "base_uri": "https://localhost:8080/",
          "height": 279
        },
        "id": "76d35855",
        "outputId": "d441cb6d-d345-4683-cac9-53946dd81ff8"
      },
      "outputs": [
        {
          "output_type": "display_data",
          "data": {
            "image/png": "[encoded data removed]",
            "text/plain": [
              "<Figure size 432x288 with 1 Axes>"
            ]
          },
          "metadata": {
            "needs_background": "light"
          }
        }
      ],
      "source": [
        "w = np.hstack((pairs[0][1].reshape(m,1))).real\n",
        "\n",
        "y_tr_out = np.array(X_tr.dot(w))\n",
        "y_ts_out = np.array(X_ts.dot(w))\n",
        "\n",
        "# print(y_tr_out)\n",
        "# print(y_ts_out)\n",
        "\n",
        "from sklearn.preprocessing import LabelEncoder\n",
        "\n",
        "le = LabelEncoder()\n",
        "y_code = le.fit_transform(X_tr_stats['class'])\n",
        "plt.xlabel('Projections (Covariates)')\n",
        "# plt.ylabel('')\n",
        "\n",
        "plt.scatter(\n",
        "    y_tr_out,\n",
        "    np.random.rand(1,len(y_tr_out))/2 + .25,\n",
        "    c=y_code,\n",
        "    cmap='rainbow',\n",
        "    alpha=0.7\n",
        ")\n",
        "plt.axis([-5.5, 5.5, 0, 1])\n",
        "ax = plt.gca()\n",
        "ax.axes.yaxis.set_visible(False)"
      ]
    },
    {
      "cell_type": "markdown",
      "id": "eaf64745",
      "metadata": {
        "id": "eaf64745"
      },
      "source": [
        "In order to use the model (that is, the `w` vector) for prediction, one needs to determine the decision threshold. Namely, we would like to fix a value that determines all projected value above it fall in class 1; otherwise, class 0.\n"
      ]
    },
    {
      "cell_type": "markdown",
      "id": "c717b31b",
      "metadata": {
        "id": "c717b31b"
      },
      "source": [
        "**(b) Write a script that finds the best threshold value from the training data. And then perform a prediction on the testing data and report the accuracy.**"
      ]
    },
    {
      "cell_type": "code",
      "execution_count": null,
      "id": "734459ee",
      "metadata": {
        "colab": {
          "base_uri": "https://localhost:8080/"
        },
        "id": "734459ee",
        "outputId": "5e244604-6c23-4008-812c-31deb94ab499"
      },
      "outputs": [
        {
          "output_type": "stream",
          "name": "stdout",
          "text": [
            "The max training accuracy is  0.9121951219512195\n",
            "The best threshold value is  0.07114237290302672\n",
            "The test data accuracy is  0.9852941176470589\n"
          ]
        }
      ],
      "source": [
        "## TODO: Complete the snippet\n",
        "max_v = 0\n",
        "thresh =0.0\n",
        "\n",
        "mini = min(y_tr_out)\n",
        "maxi = max(y_tr_out)\n",
        "\n",
        "iter = np.linspace(mini/2, maxi/2, num=1000)\n",
        "\n",
        "for thr in iter:\n",
        "  y_tr_pred = []\n",
        "  for i in range(0,len(y_tr_out)):\n",
        "    if y_tr_out[i] > thr:\n",
        "      y_tr_pred.append(0)\n",
        "    else:\n",
        "      y_tr_pred.append(1)\n",
        "  acc = get_accuracy(y_tr, y_tr_pred)\n",
        "  if max_v < acc:\n",
        "    max_v = acc\n",
        "    thresh = thr\n",
        "\n",
        "print(\"The max training accuracy is \" , acc)\n",
        "print(\"The best threshold value is \" , thresh)\n",
        "\n",
        "y_ts_pred = []\n",
        "\n",
        "for i in range(0, len(y_ts_out)):\n",
        "  if y_ts_out[i] > thresh:\n",
        "    y_ts_pred.append(0)\n",
        "  else:\n",
        "    y_ts_pred.append(1)\n",
        "\n",
        "ts_acc = get_accuracy(y_ts, y_ts_pred)\n",
        "\n",
        "print(\"The test data accuracy is \" , ts_acc)\n",
        "\n"
      ]
    },
    {
      "cell_type": "markdown",
      "id": "6a7f04b2",
      "metadata": {
        "id": "6a7f04b2"
      },
      "source": [
        "## B. Logistic Regression"
      ]
    },
    {
      "cell_type": "markdown",
      "id": "c66e4c2d",
      "metadata": {
        "id": "c66e4c2d"
      },
      "source": [
        "**(a) Implement the sigmoid function.**"
      ]
    },
    {
      "cell_type": "code",
      "execution_count": null,
      "id": "6a648a2b",
      "metadata": {
        "id": "6a648a2b"
      },
      "outputs": [],
      "source": [
        "def sigmoid(z):\n",
        "    # TODO: Complete the function such that \n",
        "    #       it returns the correct output of the sigmoid function\n",
        "    return 1 / (1 + np.exp(-z))"
      ]
    },
    {
      "cell_type": "markdown",
      "id": "9d2bf47f",
      "metadata": {
        "id": "9d2bf47f"
      },
      "source": [
        "Upon completion, you should see a nice sigmoid curve after running the following code."
      ]
    },
    {
      "cell_type": "code",
      "execution_count": null,
      "id": "ab516d80",
      "metadata": {
        "colab": {
          "base_uri": "https://localhost:8080/",
          "height": 461
        },
        "id": "ab516d80",
        "outputId": "2a14f64c-e527-435b-efba-fdffdd52317a"
      },
      "outputs": [
        {
          "output_type": "stream",
          "name": "stdout",
          "text": [
            "Requirement already satisfied: matplotlib in /usr/local/lib/python3.7/dist-packages (3.5.1)\n",
            "Requirement already satisfied: cycler>=0.10 in /usr/local/lib/python3.7/dist-packages (from matplotlib) (0.11.0)\n",
            "Requirement already satisfied: kiwisolver>=1.0.1 in /usr/local/lib/python3.7/dist-packages (from matplotlib) (1.3.2)\n",
            "Requirement already satisfied: packaging>=20.0 in /usr/local/lib/python3.7/dist-packages (from matplotlib) (21.3)\n",
            "Requirement already satisfied: fonttools>=4.22.0 in /usr/local/lib/python3.7/dist-packages (from matplotlib) (4.28.4)\n",
            "Requirement already satisfied: pyparsing>=2.2.1 in /usr/local/lib/python3.7/dist-packages (from matplotlib) (3.0.6)\n",
            "Requirement already satisfied: pillow>=6.2.0 in /usr/local/lib/python3.7/dist-packages (from matplotlib) (7.1.2)\n",
            "Requirement already satisfied: python-dateutil>=2.7 in /usr/local/lib/python3.7/dist-packages (from matplotlib) (2.8.2)\n",
            "Requirement already satisfied: numpy>=1.17 in /usr/local/lib/python3.7/dist-packages (from matplotlib) (1.19.5)\n",
            "Requirement already satisfied: six>=1.5 in /usr/local/lib/python3.7/dist-packages (from python-dateutil>=2.7->matplotlib) (1.15.0)\n"
          ]
        },
        {
          "output_type": "execute_result",
          "data": {
            "text/plain": [
              "(-8.0, 8.0)"
            ]
          },
          "metadata": {},
          "execution_count": 4
        },
        {
          "output_type": "display_data",
          "data": {
            "image/png": "[encoded data removed]",
            "text/plain": [
              "<Figure size 432x288 with 1 Axes>"
            ]
          },
          "metadata": {
            "needs_background": "light"
          }
        }
      ],
      "source": [
        "!pip install --upgrade matplotlib\n",
        "\n",
        "import matplotlib\n",
        "import matplotlib.pyplot as plt\n",
        "%matplotlib inline  \n",
        "\n",
        "# visualizing the sigmoid function\n",
        "z = np.linspace(-8,8,101)\n",
        "v = sigmoid(z)  ## Your function is invoked\n",
        "\n",
        "plt.plot(z, v)\n",
        "plt.axvline(c='grey', lw=1)\n",
        "plt.axline((-8, 0.5), (8, 0.5), c='grey', lw=1)\n",
        "\n",
        "plt.grid(color='grey', linestyle='-', linewidth=.2)\n",
        "\n",
        "plt.ylim(-0.05, 1.05)\n",
        "plt.xlim(-8, 8)"
      ]
    },
    {
      "cell_type": "markdown",
      "id": "a182f54d",
      "metadata": {
        "id": "a182f54d"
      },
      "source": [
        "**(b) Complete the `gradient_descent()` function such that it properly update w on each iteration.**"
      ]
    },
    {
      "cell_type": "code",
      "execution_count": null,
      "id": "ac2e2bbb",
      "metadata": {
        "id": "ac2e2bbb"
      },
      "outputs": [],
      "source": [
        "def compute_cost(X, y, w):\n",
        "    N = len(y)\n",
        "    h = sigmoid(X @ w)\n",
        "    epsilon = 1e-5\n",
        "    cost = (1/N)*(((-y).T @ np.log(h + epsilon))-((1-y).T @ np.log(1-h + epsilon)))\n",
        "    return cost\n",
        "\n",
        "\n",
        "\n",
        "def gradient_descent(X, y, w, alpha, n_iters, threshold=1e-07):\n",
        "    N = len(y)\n",
        "    log_j = []\n",
        "    j_last = np.Inf\n",
        "\n",
        "    for i in range(n_iters):\n",
        "        ## TODO: Complete the next line such that w_new have the updated weight values\n",
        "        xdot = X.dot(w)\n",
        "        y_hat = sigmoid(xdot)\n",
        "        xdot2 = X.T.dot(y_hat - y)\n",
        "        w_new = w - alpha * xdot2 / N\n",
        "        j_new = compute_cost(X, y, w)\n",
        "        \n",
        "        if j_last - j_new < threshold:\n",
        "            break\n",
        "        \n",
        "        w = w_new\n",
        "        log_j.append(j_new)\n",
        "        j_last = j_new\n",
        "\n",
        "    return w, log_j"
      ]
    },
    {
      "cell_type": "markdown",
      "id": "8d79de73",
      "metadata": {
        "id": "8d79de73"
      },
      "source": [
        "Your compelete `gradient_descent()` should run with the following `train_logreg()` function."
      ]
    },
    {
      "cell_type": "code",
      "execution_count": null,
      "id": "e0a91186",
      "metadata": {
        "id": "e0a91186"
      },
      "outputs": [],
      "source": [
        "# Problem 3 supplements: Additional function(s) required for this assignment\n",
        "def train_logreg(X_tr, y_tr, alpha=0.01, n_iters=1500):\n",
        "    \"\"\"\n",
        "    train_logreg\n",
        "    Input: X_tr - Training input attributes\n",
        "           y_tr - Training target labels\n",
        "           alpha - learning rate alpha (default: 0.01)\n",
        "           n_iters - number of iterations (default: 1500)\n",
        "    Output: w_star - trained model weights\n",
        "            log_j - cost history\n",
        "    \"\"\"\n",
        "    N_tr, d_tr = X_tr.shape\n",
        "    \n",
        "    X_tr_b = np.hstack((X_tr, np.ones((N_tr, 1))))\n",
        "    w_init = np.zeros(d_tr + 1)  # np.random.rand(d_tr + 1)\n",
        "    \n",
        "    initial_cost = compute_cost(X_tr_b, y_tr, w_init)\n",
        "    print(\"Initial J(w_init, D_tr) is: \", initial_cost, \"\\n\")\n",
        "    \n",
        "    w_star, log_j = gradient_descent(X_tr_b, y_tr, w_init, alpha, n_iters)\n",
        "    \n",
        "    print(\"w*: \\n\", w_star, \"\\n\")\n",
        "    print(\"J(w*, D_tr): \", log_j[-1])\n",
        "    \n",
        "    return w_star, log_j"
      ]
    },
    {
      "cell_type": "markdown",
      "id": "1e552199",
      "metadata": {
        "id": "1e552199"
      },
      "source": [
        "**(c) Implement `predict_logreg(X, w)` that takes an input matrix (X) and a weight vector (w). The function returns the 0/1 predictions and estimated probability P(y=1|x) for the input instances.**"
      ]
    },
    {
      "cell_type": "code",
      "execution_count": null,
      "id": "c4ff8f0e",
      "metadata": {
        "id": "c4ff8f0e"
      },
      "outputs": [],
      "source": [
        "def predict_logreg(X, w):\n",
        "    \"\"\"\n",
        "    predict_logreg\n",
        "    Input: X - Input attributes to predict the target output\n",
        "           w - Trained model weights\n",
        "    Output: y_pred - predicted target labels {0, 1}\n",
        "            y_prob - estimated conditional probability P(y=1|x)\n",
        "    \"\"\"\n",
        "    \n",
        "    ## TODO: Complete this function\n",
        "    N_x, d_x = X.shape\n",
        "    \n",
        "    X_ = np.hstack((X, np.ones((N_x, 1))))\n",
        "\n",
        "    y_prob = X_.dot(w)\n",
        "    y_pred = []\n",
        "    for i in sigmoid(y_prob):\n",
        "      if i > 0.5:\n",
        "        y_pred.append(1)\n",
        "      else:\n",
        "        y_pred.append(0)\n",
        "    \n",
        "    return y_pred, y_prob"
      ]
    },
    {
      "cell_type": "markdown",
      "id": "44096c38",
      "metadata": {
        "id": "44096c38"
      },
      "source": [
        "All in all, your complete code should run in the next experiment. A correct implementation would result in the accuracy evaluated on the breast cancer dataset much higher than 0.9."
      ]
    },
    {
      "cell_type": "code",
      "execution_count": null,
      "id": "c73f8f2e",
      "metadata": {
        "colab": {
          "base_uri": "https://localhost:8080/"
        },
        "id": "c73f8f2e",
        "outputId": "8bfe90de-6580-48ee-df08-575240cacdeb"
      },
      "outputs": [
        {
          "output_type": "stream",
          "name": "stdout",
          "text": [
            "Initial J(w_init, D_tr) is:  0.6931271807599426 \n",
            "\n",
            "w*: \n",
            " [ 0.69791806  0.60148189  0.65545492  0.5296396   0.46322818  0.82592807\n",
            "  0.60273484  0.5292748   0.36595843 -0.45764689] \n",
            "\n",
            "J(w*, D_tr):  0.0962007329581487\n",
            "0.9707317073170731\n",
            "0.9852941176470589\n"
          ]
        }
      ],
      "source": [
        "# Step 7) Train a logReg model\n",
        "Model_logreg, log_j_logreg = train_logreg(X_tr, y_tr, 0.005, 3000)\n",
        "\n",
        "\n",
        "# Step 8) Apply the trained LogReg model for prediction on both X_tr and X_ts\n",
        "y_tr_pred, _ = predict_logreg(X_tr, Model_logreg)\n",
        "y_ts_pred, _ = predict_logreg(X_ts, Model_logreg)\n",
        "\n",
        "# Step 9) Measure the accuracy on y_tr and y_ts, respectively,\n",
        "#        using your get_accuracy function.\n",
        "print(get_accuracy(y_tr, y_tr_pred))\n",
        "print(get_accuracy(y_ts, y_ts_pred))"
      ]
    },
    {
      "cell_type": "markdown",
      "id": "736956d8",
      "metadata": {
        "id": "736956d8"
      },
      "source": [
        "**(d) Read the results. What are your accuracy on the training data and that of the testing data?**"
      ]
    },
    {
      "cell_type": "markdown",
      "source": [
        "Training accuracy is 0.9707317073170731\n",
        "\n",
        "Test accuracy is 0.9852941176470589"
      ],
      "metadata": {
        "id": "UxRVVrFzv3R8"
      },
      "id": "UxRVVrFzv3R8"
    },
    {
      "cell_type": "markdown",
      "id": "67ba3fb4",
      "metadata": {
        "id": "67ba3fb4"
      },
      "source": [
        "**(e) Variable `log_j_logreg` contains the loss evaluated on each training iteration. Visualizing this variable highlights the progression of training. Plot the changes recorded in `log_j_logreg`; that is, x-axis is the iteration number, and y-axis is the output of the J function.**"
      ]
    },
    {
      "cell_type": "code",
      "execution_count": null,
      "id": "3901df2d",
      "metadata": {
        "colab": {
          "base_uri": "https://localhost:8080/",
          "height": 265
        },
        "id": "3901df2d",
        "outputId": "e085006d-af4e-4c60-ffbf-7c3b8aaa375c"
      },
      "outputs": [
        {
          "output_type": "display_data",
          "data": {
            "image/png": "[encoded data removed]",
            "text/plain": [
              "<Figure size 432x288 with 1 Axes>"
            ]
          },
          "metadata": {
            "needs_background": "light"
          }
        }
      ],
      "source": [
        "## TODO: Plot the chnages recorded in log_j_logreg (a.k.a. learning curve)\n",
        "plt.plot(log_j_logreg)\n",
        "plt.show()"
      ]
    },
    {
      "cell_type": "markdown",
      "id": "1a7bd9cf",
      "metadata": {
        "id": "1a7bd9cf"
      },
      "source": [
        "## C. Support Vector Machines (SVMs)"
      ]
    },
    {
      "cell_type": "markdown",
      "id": "961e5213",
      "metadata": {
        "id": "961e5213"
      },
      "source": [
        "Let us get started with installing a required library. `cvxopt` is an optimization library that contains a large collection of solvers."
      ]
    },
    {
      "cell_type": "code",
      "execution_count": null,
      "id": "1f2afe47",
      "metadata": {
        "id": "1f2afe47",
        "outputId": "f8ab93ed-ac93-4565-8ffd-bb3306a297c0",
        "colab": {
          "base_uri": "https://localhost:8080/"
        }
      },
      "outputs": [
        {
          "output_type": "stream",
          "name": "stdout",
          "text": [
            "Requirement already satisfied: cvxopt in /usr/local/lib/python3.7/dist-packages (1.2.7)\n"
          ]
        }
      ],
      "source": [
        "!pip install cvxopt"
      ]
    },
    {
      "cell_type": "code",
      "execution_count": null,
      "id": "c39f24bf",
      "metadata": {
        "id": "c39f24bf"
      },
      "outputs": [],
      "source": [
        "# Imports\n",
        "import numpy as np\n",
        "import cvxopt"
      ]
    },
    {
      "cell_type": "markdown",
      "id": "ce73dbb0",
      "metadata": {
        "id": "ce73dbb0"
      },
      "source": [
        "Below is a complete code that defines, trains, and tests an SVM model."
      ]
    },
    {
      "cell_type": "code",
      "execution_count": null,
      "id": "11fd9cea",
      "metadata": {
        "id": "11fd9cea"
      },
      "outputs": [],
      "source": [
        "# https://github.com/corymaklin/svm/blob/master/svm.ipynb\n",
        "\n",
        "class SVM:\n",
        "\n",
        "    def fit(self, X, y):\n",
        "        n_samples, n_features = X.shape\n",
        "\n",
        "        # P = X^T X \n",
        "        K = np.zeros((n_samples, n_samples)) #n_samples * n_samples matrix filled with zero\n",
        "        for i in range(n_samples):\n",
        "            for j in range(n_samples):\n",
        "                K[i,j] = np.dot(X[i], X[j]) \n",
        "        P = cvxopt.matrix(np.outer(y, y) * K)\n",
        "        # this sequence is used for optimization in dual problem.(alpha(n) alpha(n)' y(n) y(n)' x(n)T * x(n)' )\n",
        "        # P save y(n) y(n)' x(n)T * x(n)'\n",
        "        # this is gram matrix\n",
        "\n",
        "        # q = -1 (1xN)\n",
        "        q = cvxopt.matrix(np.ones(n_samples) * -1)\n",
        "\n",
        "        # A = y^T \n",
        "        A = cvxopt.matrix(y, (1, n_samples))\n",
        "\n",
        "        # b = 0 , one instance with value 0\n",
        "        b = cvxopt.matrix(0.0)\n",
        "\n",
        "        # -1 (NxN)\n",
        "        G = cvxopt.matrix(np.diag(np.ones(n_samples) * -1))\n",
        "\n",
        "        # 0 (1xN)\n",
        "        h = cvxopt.matrix(np.zeros(n_samples))\n",
        "\n",
        "        #these are the parameters for solving quadratic optimization problem.\n",
        "        \n",
        "        cvxopt.solvers.options['show_progress'] = False\n",
        "        cvxopt.solvers.options['abstol'] = 1e-10\n",
        "        #absolute accuracy\n",
        "        cvxopt.solvers.options['reltol'] = 1e-10\n",
        "        #relative accuracy\n",
        "        cvxopt.solvers.options['maxiters'] = 500\n",
        "        #maximum number of iterations\n",
        "        solution = cvxopt.solvers.qp(P, q, G, h, A, b)\n",
        "        # this is solving quadratic program with the given data. \n",
        "\n",
        "        #{'x': <300x1 matrix, tc='d'>, 'y': <1x1 matrix, tc='d'>, 's': <300x1 matrix, tc='d'>, 'z': <300x1 matrix, tc='d'>,\n",
        "        # 'status': 'optimal', 'gap': 6.846660050910975e-12, 'relative gap': 1.7658983428313046e-11, 'primal objective': -0.38771541287782, \n",
        "        #'dual objective': -0.3877154128846664, 'primal infeasibility': 1.2922504951497127e-16, \n",
        "        #'dual infeasibility': 1.0724949936645799e-14, 'primal slack': 1.2329846374971779e-14, \n",
        "        #'dual slack': 5.533663752910709e-13, 'iterations': 10}\n",
        "\n",
        "        # Lagrange multipliers\n",
        "        a = np.ravel(solution['x'])\n",
        "\n",
        "        # Support vectors have non zero lagrange multipliers\n",
        "        sv = a > 1e-5\n",
        "        # this means saving only support vector by using the a value. I think a is a lagrangian multiplier. So if it is almot zeor(1e-5) it means it is not S.V\n",
        "        ind = np.arange(len(a))[sv]\n",
        "        #location of S.V (index of S.V)\n",
        "        self.a = a[sv] # lagrange multipliers for support vector\n",
        "        self.sv = X[sv] # value of S.V\n",
        "        self.sv_y = y[sv] # class of the S.V\n",
        "\n",
        "        # Intercept\n",
        "        self.b = 0\n",
        "        for n in range(len(self.a)): #iterate with the number of lagrange multipliers.\n",
        "            self.b += self.sv_y[n] # add the class of the S.V\n",
        "            self.b -= np.sum(self.a * self.sv_y * K[ind[n], sv])\n",
        "            # this is to make svm decision boundary does not always pass the origin(0,0)\n",
        "            # getting a mean intercept of S.V \n",
        "            \n",
        "        self.b /= len(self.a)\n",
        "        #because we add them all we have to divide it by the number of S.V.\n",
        "\n",
        "        # Weights\n",
        "        self.w = np.zeros(n_features)\n",
        "        for n in range(len(self.a)):\n",
        "            self.w += self.a[n] * self.sv_y[n] * self.sv[n]\n",
        "            # because wt * x in SVM is equal to sigma(alpha(lagrange multipliers) * y(class) * x(n)t ( this is from S.V )) * x , is equation is makeing new w.\n",
        "    \n",
        "    \n",
        "    def project(self, X):\n",
        "        return np.dot(X, self.w) + self.b\n",
        "    \n",
        "    \n",
        "    def predict(self, X):\n",
        "        return np.sign(self.project(X))"
      ]
    },
    {
      "cell_type": "markdown",
      "id": "8a9fc0e8",
      "metadata": {
        "id": "8a9fc0e8"
      },
      "source": [
        "**(a) Read the above code multiple times and try to understand as much as possible. As indications of your understanding put some comments on each block of code. Submit your comments for problem part (a).** (You may add comments directly on the above code cell.)"
      ]
    },
    {
      "cell_type": "markdown",
      "id": "16a21e1a",
      "metadata": {
        "id": "16a21e1a"
      },
      "source": [
        "For this problem, we will first play with simple data blobs and attempt to visualize the decision boundary. Let us create a synthetic dataset."
      ]
    },
    {
      "cell_type": "code",
      "execution_count": null,
      "id": "63374347",
      "metadata": {
        "id": "63374347",
        "outputId": "33bbc022-edc1-45bc-8e3f-ecf03ca46758",
        "colab": {
          "base_uri": "https://localhost:8080/",
          "height": 283
        }
      },
      "outputs": [
        {
          "output_type": "execute_result",
          "data": {
            "text/plain": [
              "<matplotlib.collections.PathCollection at 0x7f482f05fe90>"
            ]
          },
          "metadata": {},
          "execution_count": 68
        },
        {
          "output_type": "display_data",
          "data": {
            "image/png": "[encoded data removed]",
            "text/plain": [
              "<Figure size 432x288 with 1 Axes>"
            ]
          },
          "metadata": {
            "needs_background": "light"
          }
        }
      ],
      "source": [
        "from sklearn.datasets import make_blobs\n",
        "Xs, ys = make_blobs(n_samples=300, centers=2, random_state=777, cluster_std=0.30)\n",
        "ys = (ys - .5)*2 # converts the binary labels 0/1 -> signed labels 1/-1 \n",
        "tmp = np.ones(len(Xs))  # type casting: np.int64 -> np.float64\n",
        "ys = tmp * ys\n",
        "\n",
        "plt.scatter(Xs[:, 0], Xs[:, 1], c=ys, cmap='rainbow')"
      ]
    },
    {
      "cell_type": "markdown",
      "id": "4d697ad1",
      "metadata": {
        "id": "4d697ad1"
      },
      "source": [
        "Then the following code trains an SVM model using the custom code above, and attempts to visualize the decision hyperplane and maximum margin hyperplane that are found by the training algorithm."
      ]
    },
    {
      "cell_type": "code",
      "execution_count": null,
      "id": "339e863e",
      "metadata": {
        "id": "339e863e",
        "outputId": "28211878-1b98-4f8b-a310-5e87401e8a68",
        "colab": {
          "base_uri": "https://localhost:8080/",
          "height": 283
        }
      },
      "outputs": [
        {
          "output_type": "execute_result",
          "data": {
            "text/plain": [
              "[<matplotlib.lines.Line2D at 0x7f482d2d7050>]"
            ]
          },
          "metadata": {},
          "execution_count": 76
        },
        {
          "output_type": "display_data",
          "data": {
            "image/png": "[encoded data removed]",
            "text/plain": [
              "<Figure size 432x288 with 1 Axes>"
            ]
          },
          "metadata": {
            "needs_background": "light"
          }
        }
      ],
      "source": [
        "svm = SVM()\n",
        "svm.fit(Xs, ys)\n",
        "\n",
        "def f(x, w, b, c=0):\n",
        "    return (-w[0] * x - b + c) / w[1]\n",
        "\n",
        "plt.scatter(Xs[:, 0], Xs[:, 1], c=ys, cmap='rainbow')\n",
        "\n",
        "# w.x + b = 0\n",
        "a0 = -10; a1 = f(a0, svm.w, svm.b)\n",
        "b0 = -5; b1 = f(b0, svm.w, svm.b)\n",
        "plt.plot([a0,b0], [a1,b1], 'k', linewidth=1)\n",
        "\n",
        "# w.x + b = 1\n",
        "a0 = -10; a1 = f(a0, svm.w, svm.b, 1)\n",
        "b0 = -5; b1 = f(b0, svm.w, svm.b, 1)\n",
        "plt.plot([a0,b0], [a1,b1], 'k--', linewidth=.5)\n",
        "\n",
        "# w.x + b = -1\n",
        "a0 = -10; a1 = f(a0, svm.w, svm.b, -1)\n",
        "b0 = -5; b1 = f(b0, svm.w, svm.b, -1)\n",
        "plt.plot([a0,b0], [a1,b1], 'k--', linewidth=.5)\n",
        "\n",
        "#print(Xs)"
      ]
    },
    {
      "cell_type": "markdown",
      "id": "f57352f2",
      "metadata": {
        "id": "f57352f2"
      },
      "source": [
        "Hope the above example helped you understand the provided SVM class."
      ]
    },
    {
      "cell_type": "markdown",
      "id": "30beaee1",
      "metadata": {
        "id": "30beaee1"
      },
      "source": [
        "Now is your turn. Let us bring back the breast cancer dataset. Notice that the original labels (`y_tr`, `y_ts`) are binary, while we need signed labels."
      ]
    },
    {
      "cell_type": "code",
      "execution_count": null,
      "id": "5740e1f8",
      "metadata": {
        "id": "5740e1f8"
      },
      "outputs": [],
      "source": [
        "y_tr_signed = (y_tr - .5)*2\n",
        "y_ts_signed = (y_ts - .5)*2"
      ]
    },
    {
      "cell_type": "markdown",
      "id": "9c2d7101",
      "metadata": {
        "id": "9c2d7101"
      },
      "source": [
        "Now let us instantiate and train SVM using the above provided class. "
      ]
    },
    {
      "cell_type": "code",
      "execution_count": null,
      "id": "fb4cd00c",
      "metadata": {
        "id": "fb4cd00c"
      },
      "outputs": [],
      "source": [
        "svm = SVM()\n",
        "svm.fit(X_tr, y_tr_signed)\n"
      ]
    },
    {
      "cell_type": "markdown",
      "id": "fea3452e",
      "metadata": {
        "id": "fea3452e"
      },
      "source": [
        "Use the trained model to make predictions. What are the accuracies on the training dataset and test dataset?"
      ]
    },
    {
      "cell_type": "code",
      "execution_count": null,
      "id": "c89c4f4b",
      "metadata": {
        "id": "c89c4f4b",
        "outputId": "4d14e480-d06e-4fe0-8d0a-a7a4ac51600f",
        "colab": {
          "base_uri": "https://localhost:8080/"
        }
      },
      "outputs": [
        {
          "output_type": "stream",
          "name": "stdout",
          "text": [
            "0.6325203252032521\n",
            "0.8088235294117647\n"
          ]
        }
      ],
      "source": [
        "y_tr_pred = svm.predict(X_tr)\n",
        "y_ts_pred = svm.predict(X_ts)\n",
        "\n",
        "print(get_accuracy(y_tr_signed, y_tr_pred))\n",
        "print(get_accuracy(y_ts_signed, y_ts_pred))"
      ]
    },
    {
      "cell_type": "markdown",
      "id": "fdc94d79",
      "metadata": {
        "id": "fdc94d79"
      },
      "source": [
        "On the other hand, if you use the Scikit-learn's (sklearn) built-in SVM library, it would result in much higher accuracies:"
      ]
    },
    {
      "cell_type": "code",
      "execution_count": null,
      "id": "e7ff4c17",
      "metadata": {
        "id": "e7ff4c17",
        "outputId": "9926dc46-f36c-4241-8dbc-847c41cc22e0",
        "colab": {
          "base_uri": "https://localhost:8080/"
        }
      },
      "outputs": [
        {
          "output_type": "stream",
          "name": "stdout",
          "text": [
            "0.9658536585365853\n",
            "1.0\n"
          ]
        }
      ],
      "source": [
        "from sklearn.svm import LinearSVC\n",
        "svc = LinearSVC()\n",
        "svc.fit(X_tr, y_tr_signed)\n",
        "y_tr_pred = svc.predict(X_tr)\n",
        "y_ts_pred = svc.predict(X_ts)\n",
        "\n",
        "print(get_accuracy(y_tr_signed, y_tr_pred))\n",
        "print(get_accuracy(y_ts_signed, y_ts_pred))"
      ]
    },
    {
      "cell_type": "markdown",
      "id": "68c6d5f2",
      "metadata": {
        "id": "68c6d5f2"
      },
      "source": [
        "Here comes the question:\n",
        "\n",
        "**(b) Why the provided `SVM` class did not perform well on the breast cancer dataset, while it performs perfectly on the simple data blobs in the early example? Can you make an educated guess using the components and techniques that we have discussed with SVM. You may open and examine any of  the variables loaded on the memory to investigate this.**"
      ]
    },
    {
      "cell_type": "code",
      "source": [
        "bad_Xs, bad_ys = make_blobs(n_samples=300, centers=2, random_state=777, cluster_std=0.99)\n",
        "bad_ys = (bad_ys - .5)*2 # converts the binary labels 0/1 -> signed labels 1/-1 \n",
        "bad_tmp = np.ones(len(bad_Xs))  # type casting: np.int64 -> np.float64\n",
        "bad_ys = bad_tmp * bad_ys\n",
        "\n",
        "plt.scatter(bad_Xs[:, 0], bad_Xs[:, 1], c=bad_ys, cmap='rainbow')"
      ],
      "metadata": {
        "colab": {
          "base_uri": "https://localhost:8080/",
          "height": 283
        },
        "id": "d-w2qi1gSeWO",
        "outputId": "ea80b2db-0c90-4199-8e2f-8cf5c94cb256"
      },
      "id": "d-w2qi1gSeWO",
      "execution_count": null,
      "outputs": [
        {
          "output_type": "execute_result",
          "data": {
            "text/plain": [
              "<matplotlib.collections.PathCollection at 0x7f482655ef50>"
            ]
          },
          "metadata": {},
          "execution_count": 100
        },
        {
          "output_type": "display_data",
          "data": {
            "image/png": "[encoded data removed]",
            "text/plain": [
              "<Figure size 432x288 with 1 Axes>"
            ]
          },
          "metadata": {
            "needs_background": "light"
          }
        }
      ]
    },
    {
      "cell_type": "code",
      "source": [
        "bad_svm = SVM()\n",
        "bad_svm.fit(bad_Xs, bad_ys)\n",
        "\n",
        "def f(x, w, b, c=0):\n",
        "    return (-w[0] * x - b + c) / w[1]\n",
        "\n",
        "plt.scatter(bad_Xs[:, 0], bad_Xs[:, 1], c=ys, cmap='rainbow')\n",
        "\n",
        "# w.x + b = 0\n",
        "bad_a0 = -10; bad_a1 = f(bad_a0, bad_svm.w, bad_svm.b)\n",
        "bad_b0 = -5; bad_b1 = f(b0, bad_svm.w, bad_svm.b)\n",
        "plt.plot([bad_a0,bad_b0], [bad_a1,bad_b1], 'k', linewidth=1)\n",
        "\n",
        "# w.x + b = 1\n",
        "bad_a0 = -10; bad_a1 = f(bad_a0, bad_svm.w, bad_svm.b, 1)\n",
        "bad_b0 = -5; bad_b1 = f(bad_b0, bad_svm.w, bad_svm.b, 1)\n",
        "plt.plot([bad_a0,bad_b0], [bad_a1,bad_b1], 'k--', linewidth=.5)\n",
        "\n",
        "# w.x + b = -1\n",
        "bad_a0 = -10; bad_a1 = f(bad_a0, bad_svm.w, bad_svm.b, -1)\n",
        "bad_b0 = -5; bad_b1 = f(bad_b0, bad_svm.w, bad_svm.b, -1)\n",
        "plt.plot([bad_a0,bad_b0], [bad_a1,bad_b1], 'k--', linewidth=.5)"
      ],
      "metadata": {
        "colab": {
          "base_uri": "https://localhost:8080/",
          "height": 283
        },
        "id": "Gk62-Cp_SjHl",
        "outputId": "bc232e45-afc2-47fd-9537-7b45a56ce109"
      },
      "id": "Gk62-Cp_SjHl",
      "execution_count": null,
      "outputs": [
        {
          "output_type": "execute_result",
          "data": {
            "text/plain": [
              "[<matplotlib.lines.Line2D at 0x7f4826091b10>]"
            ]
          },
          "metadata": {},
          "execution_count": 110
        },
        {
          "output_type": "display_data",
          "data": {
            "image/png": "[encoded data removed]",
            "text/plain": [
              "<Figure size 432x288 with 1 Axes>"
            ]
          },
          "metadata": {
            "needs_background": "light"
          }
        }
      ]
    },
    {
      "cell_type": "code",
      "source": [
        "bad_y_pred = bad_svm.predict(bad_Xs)\n",
        "\n",
        "print(get_accuracy(bad_ys, bad_y_pred))"
      ],
      "metadata": {
        "colab": {
          "base_uri": "https://localhost:8080/"
        },
        "id": "RTNAQzSCU5WQ",
        "outputId": "1fd0dad0-4749-474c-d01d-c4932bc6da67"
      },
      "id": "RTNAQzSCU5WQ",
      "execution_count": null,
      "outputs": [
        {
          "output_type": "stream",
          "name": "stdout",
          "text": [
            "0.46\n"
          ]
        }
      ]
    },
    {
      "cell_type": "markdown",
      "id": "17f2f4a7",
      "metadata": {
        "id": "17f2f4a7"
      },
      "source": [
        "**(c) If you have an answer to problem (b), can you come up with a solution? Could you describe idea in a plain text?**"
      ]
    },
    {
      "cell_type": "markdown",
      "source": [
        "Answer to this question is in the pdf file"
      ],
      "metadata": {
        "id": "AkBPwwYPaCCU"
      },
      "id": "AkBPwwYPaCCU"
    },
    {
      "cell_type": "markdown",
      "id": "74b202dd",
      "metadata": {
        "id": "74b202dd"
      },
      "source": [
        "**(d) Taking even more steps furthere, if you have an idea to address the above issue, can you extend and update the above `SVM` class, so that it performs as good as Scikit-learn's `SVC`?**"
      ]
    },
    {
      "cell_type": "markdown",
      "source": [
        "I make new_SVM class that work good as Scikit-learn's SVC."
      ],
      "metadata": {
        "id": "mTqabBJxdTs9"
      },
      "id": "mTqabBJxdTs9"
    },
    {
      "cell_type": "code",
      "source": [
        "# https://github.com/corymaklin/svm/blob/master/svm.ipynb\n",
        "\n",
        "class new_SVM:\n",
        "\n",
        "    def fit(self, X, y , C):\n",
        "        n_samples, n_features = X.shape\n",
        "\n",
        "        # P = X^T X \n",
        "        K = np.zeros((n_samples, n_samples)) #n_samples * n_samples matrix filled with zero\n",
        "        for i in range(n_samples):\n",
        "            for j in range(n_samples):\n",
        "                K[i,j] = np.dot(X[i], X[j]) \n",
        "        P = cvxopt.matrix(np.outer(y, y) * K)\n",
        "        # this sequence is used for optimization in dual problem.(alpha(n) alpha(n)' y(n) y(n)' x(n)T * x(n)' )\n",
        "        # P save y(n) y(n)' x(n)T * x(n)'\n",
        "        # this is gram matrix\n",
        "\n",
        "        # q = -1 (1xN)\n",
        "        q = cvxopt.matrix(np.ones(n_samples) * -1)\n",
        "\n",
        "        # A = y^T \n",
        "        A = cvxopt.matrix(y, (1, n_samples))\n",
        "\n",
        "        # b = 0 , one instance with value 0\n",
        "        b = cvxopt.matrix(0.0)\n",
        "        if C is None:\n",
        "          G = cvxopt.matrix(np.diag(np.ones(n_samples) * -1))\n",
        "          h = cvxopt.matrix(np.zeros(n_samples))\n",
        "        \n",
        "        else:\n",
        "          tmp1 = np.diag(np.ones(n_samples) * -1)\n",
        "          tmp2 = np.identity(n_samples)\n",
        "          G = cvxopt.matrix(np.vstack((tmp1, tmp2)))\n",
        "          tmp1 = np.zeros(n_samples)\n",
        "          tmp2 = np.ones(n_samples) * C\n",
        "          h = cvxopt.matrix(np.hstack((tmp1, tmp2)))\n",
        "\n",
        "        \n",
        "\n",
        "        #these are the parameters for solving quadratic optimization problem.\n",
        "        \n",
        "        cvxopt.solvers.options['show_progress'] = False\n",
        "        cvxopt.solvers.options['abstol'] = 1e-10\n",
        "        #absolute accuracy\n",
        "        cvxopt.solvers.options['reltol'] = 1e-10\n",
        "        #relative accuracy\n",
        "        cvxopt.solvers.options['maxiters'] = 500\n",
        "        #maximum number of iterations\n",
        "        solution = cvxopt.solvers.qp(P, q, G, h, A, b)\n",
        "        # this is solving quadratic program with the given data. \n",
        "\n",
        "        #{'x': <300x1 matrix, tc='d'>, 'y': <1x1 matrix, tc='d'>, 's': <300x1 matrix, tc='d'>, 'z': <300x1 matrix, tc='d'>,\n",
        "        # 'status': 'optimal', 'gap': 6.846660050910975e-12, 'relative gap': 1.7658983428313046e-11, 'primal objective': -0.38771541287782, \n",
        "        #'dual objective': -0.3877154128846664, 'primal infeasibility': 1.2922504951497127e-16, \n",
        "        #'dual infeasibility': 1.0724949936645799e-14, 'primal slack': 1.2329846374971779e-14, \n",
        "        #'dual slack': 5.533663752910709e-13, 'iterations': 10}\n",
        "\n",
        "        # Lagrange multipliers\n",
        "        a = np.ravel(solution['x'])\n",
        "\n",
        "        # Support vectors have non zero lagrange multipliers\n",
        "        sv = a > 1e-5\n",
        "        # this means saving only support vector by using the a value. I think a is a lagrangian multiplier. So if it is almot zeor(1e-5) it means it is not S.V\n",
        "        ind = np.arange(len(a))[sv]\n",
        "        #location of S.V (index of S.V)\n",
        "        self.a = a[sv] # lagrange multipliers for support vector\n",
        "        self.sv = X[sv] # value of S.V\n",
        "        self.sv_y = y[sv] # class of the S.V\n",
        "\n",
        "        # Intercept\n",
        "        self.b = 0\n",
        "        for n in range(len(self.a)): #iterate with the number of lagrange multipliers.\n",
        "            self.b += self.sv_y[n] # add the class of the S.V\n",
        "            self.b -= np.sum(self.a * self.sv_y * K[ind[n], sv])\n",
        "            # this is to make svm decision boundary does not always pass the origin(0,0)\n",
        "            # getting a mean intercept of S.V \n",
        "            \n",
        "        self.b /= len(self.a)\n",
        "        #because we add them all we have to divide it by the number of S.V.\n",
        "\n",
        "        # Weights\n",
        "        self.w = np.zeros(n_features)\n",
        "        for n in range(len(self.a)):\n",
        "            self.w += self.a[n] * self.sv_y[n] * self.sv[n]\n",
        "            # because wt * x in SVM is equal to sigma(alpha(lagrange multipliers) * y(class) * x(n)t ( this is from S.V )) * x , is equation is makeing new w.\n",
        "    \n",
        "    \n",
        "    def project(self, X):\n",
        "        return np.dot(X, self.w) + self.b\n",
        "    \n",
        "    \n",
        "    def predict(self, X):\n",
        "        return np.sign(self.project(X))"
      ],
      "metadata": {
        "id": "VZW1IBL8Qcl9"
      },
      "id": "VZW1IBL8Qcl9",
      "execution_count": null,
      "outputs": []
    },
    {
      "cell_type": "code",
      "source": [
        "new_svm = new_SVM()\n",
        "iter_C = np.linspace(0.0001, 0.5, num=100)"
      ],
      "metadata": {
        "id": "LrmClj7OQzj7"
      },
      "id": "LrmClj7OQzj7",
      "execution_count": null,
      "outputs": []
    },
    {
      "cell_type": "code",
      "source": [
        "max = 0.0;\n",
        "best_C = 0.0;\n",
        "\n",
        "for C in iter_C:\n",
        "  new_svm.fit(X_tr, y_tr_signed , C)\n",
        "  y_tr_pred = new_svm.predict(X_tr)\n",
        "  y_ts_pred = new_svm.predict(X_ts)\n",
        "  if get_accuracy(y_ts_signed, y_ts_pred) > max:\n",
        "    max = get_accuracy(y_ts_signed, y_ts_pred)\n",
        "    best_C = C\n",
        "\n",
        "new_svm.fit(X_tr, y_tr_signed , best_C)\n",
        "y_tr_pred = new_svm.predict(X_tr)\n",
        "y_ts_pred = new_svm.predict(X_ts)\n",
        "\n",
        "print(get_accuracy(y_tr_signed, y_tr_pred))\n",
        "print(get_accuracy(y_ts_signed, y_ts_pred))"
      ],
      "metadata": {
        "colab": {
          "base_uri": "https://localhost:8080/"
        },
        "id": "j6BGqy6NQuUQ",
        "outputId": "8b8af64f-a67e-4ce9-dd5c-d1dfb211ba26"
      },
      "id": "j6BGqy6NQuUQ",
      "execution_count": null,
      "outputs": [
        {
          "output_type": "stream",
          "name": "stdout",
          "text": [
            "0.9447154471544715\n",
            "1.0\n"
          ]
        }
      ]
    },
    {
      "cell_type": "markdown",
      "source": [
        ""
      ],
      "metadata": {
        "id": "OfeJw8Z7Qb5r"
      },
      "id": "OfeJw8Z7Qb5r"
    }
  ],
  "metadata": {
    "kernelspec": {
      "display_name": "Python 3 (ipykernel)",
      "language": "python",
      "name": "python3"
    },
    "language_info": {
      "codemirror_mode": {
        "name": "ipython",
        "version": 3
      },
      "file_extension": ".py",
      "mimetype": "text/x-python",
      "name": "python",
      "nbconvert_exporter": "python",
      "pygments_lexer": "ipython3",
      "version": "3.8.11"
    },
    "colab": {
      "name": "21500749_FinalML_code.ipynb",
      "provenance": [],
      "collapsed_sections": []
    }
  },
  "nbformat": 4,
  "nbformat_minor": 5
}